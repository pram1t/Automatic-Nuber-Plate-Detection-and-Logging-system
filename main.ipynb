{
 "cells": [
  {
   "metadata": {
    "ExecuteTime": {
     "end_time": "2025-09-18T21:50:51.392034Z",
     "start_time": "2025-09-18T21:50:51.384323Z"
    }
   },
   "cell_type": "code",
   "source": "1+1",
   "id": "371c6d2d9dadae8d",
   "outputs": [
    {
     "data": {
      "text/plain": [
       "2"
      ]
     },
     "execution_count": 2,
     "metadata": {},
     "output_type": "execute_result"
    }
   ],
   "execution_count": 2
  },
  {
   "metadata": {
    "ExecuteTime": {
     "end_time": "2025-09-18T21:57:16.346488Z",
     "start_time": "2025-09-18T21:57:16.328157Z"
    }
   },
   "cell_type": "code",
   "source": [
    "# STEP 1: Install dependencies\n",
    "import os\n",
    "import cv2\n",
    "import glob\n",
    "import shutil\n",
    "import pandas as pd\n",
    "import xml.etree.ElementTree as ET\n",
    "from sklearn.model_selection import train_test_split"
   ],
   "id": "32e2aba49f7d172d",
   "outputs": [
    {
     "ename": "ModuleNotFoundError",
     "evalue": "No module named 'cv2'",
     "output_type": "error",
     "traceback": [
      "\u001B[31m---------------------------------------------------------------------------\u001B[39m",
      "\u001B[31mModuleNotFoundError\u001B[39m                       Traceback (most recent call last)",
      "\u001B[36mCell\u001B[39m\u001B[36m \u001B[39m\u001B[32mIn[11]\u001B[39m\u001B[32m, line 3\u001B[39m\n\u001B[32m      1\u001B[39m \u001B[38;5;66;03m# STEP 1: Install dependencies\u001B[39;00m\n\u001B[32m      2\u001B[39m \u001B[38;5;28;01mimport\u001B[39;00m\u001B[38;5;250m \u001B[39m\u001B[34;01mos\u001B[39;00m\n\u001B[32m----> \u001B[39m\u001B[32m3\u001B[39m \u001B[38;5;28;01mimport\u001B[39;00m\u001B[38;5;250m \u001B[39m\u001B[34;01mcv2\u001B[39;00m\n\u001B[32m      4\u001B[39m \u001B[38;5;28;01mimport\u001B[39;00m\u001B[38;5;250m \u001B[39m\u001B[34;01mglob\u001B[39;00m\n\u001B[32m      5\u001B[39m \u001B[38;5;28;01mimport\u001B[39;00m\u001B[38;5;250m \u001B[39m\u001B[34;01mshutil\u001B[39;00m\n",
      "\u001B[31mModuleNotFoundError\u001B[39m: No module named 'cv2'"
     ]
    }
   ],
   "execution_count": 11
  },
  {
   "metadata": {},
   "cell_type": "code",
   "outputs": [],
   "execution_count": null,
   "source": [
    "# Original dataset paths\n",
    "IMAGE_DIR = \"dataset/images\"\n",
    "ANNOTATION_DIR = \"dataset/annotations\"\n",
    "\n",
    "# YOLO formatted dataset folder\n",
    "YOLO_DATASET_DIR = \"dataset_yolo\"\n",
    "IMG_OUT_DIR = os.path.join(YOLO_DATASET_DIR, \"images\")\n",
    "LBL_OUT_DIR = os.path.join(YOLO_DATASET_DIR, \"labels\")\n",
    "\n",
    "# Create folders\n",
    "for split in [\"train\", \"val\"]:\n",
    "    os.makedirs(os.path.join(IMG_OUT_DIR, split), exist_ok=True)\n",
    "    os.makedirs(os.path.join(LBL_OUT_DIR, split), exist_ok=True)\n",
    "\n",
    "# Function to parse XML and save as YOLO format\n",
    "def convert_xml_to_yolo(xml_file, image_shape):\n",
    "    tree = ET.parse(xml_file)\n",
    "    root = tree.getroot()\n",
    "\n",
    "    yolo_labels = []\n",
    "    img_w = int(image_shape[1])\n",
    "    img_h = int(image_shape[0])\n",
    "\n",
    "    for obj in root.findall(\"object\"):\n",
    "        cls = obj.find(\"name\").text.strip()\n",
    "        # Only consider license plates\n",
    "        if cls.lower() not in [\"number_plate\", \"license_plate\", \"plate\"]:\n",
    "            continue\n",
    "\n",
    "        xmlbox = obj.find(\"bndbox\")\n",
    "        xmin = int(xmlbox.find(\"xmin\").text)\n",
    "        ymin = int(xmlbox.find(\"ymin\").text)\n",
    "        xmax = int(xmlbox.find(\"xmax\").text)\n",
    "        ymax = int(xmlbox.find(\"ymax\").text)\n",
    "\n",
    "        # YOLO format: class x_center y_center width height (normalized)\n",
    "        x_center = ((xmin + xmax) / 2) / img_w\n",
    "        y_center = ((ymin + ymax) / 2) / img_h\n",
    "        width = (xmax - xmin) / img_w\n",
    "        height = (ymax - ymin) / img_h\n",
    "\n",
    "        yolo_labels.append(f\"0 {x_center} {y_center} {width} {height}\")\n",
    "\n",
    "    return yolo_labels\n",
    "\n",
    "# Collect all images and annotations\n",
    "all_images = glob.glob(os.path.join(IMAGE_DIR, \"*.jpg\")) + glob.glob(os.path.join(IMAGE_DIR, \"*.png\"))\n",
    "train_imgs, val_imgs = train_test_split(all_images, test_size=0.2, random_state=42)\n",
    "\n",
    "def process_and_save(images, split):\n",
    "    for img_path in images:\n",
    "        fname = os.path.basename(img_path)\n",
    "        name, ext = os.path.splitext(fname)\n",
    "        xml_path = os.path.join(ANNOTATION_DIR, f\"{name}.xml\")\n",
    "\n",
    "        if not os.path.exists(xml_path):\n",
    "            continue\n",
    "\n",
    "        # Read image\n",
    "        img = cv2.imread(img_path)\n",
    "        h, w = img.shape[:2]\n",
    "\n",
    "        # Convert annotation to YOLO\n",
    "        yolo_labels = convert_xml_to_yolo(xml_path, (h, w))\n",
    "\n",
    "        # Save image\n",
    "        out_img_path = os.path.join(IMG_OUT_DIR, split, fname)\n",
    "        shutil.copy(img_path, out_img_path)\n",
    "\n",
    "        # Save label file\n",
    "        out_lbl_path = os.path.join(LBL_OUT_DIR, split, f\"{name}.txt\")\n",
    "        with open(out_lbl_path, \"w\") as f:\n",
    "            f.write(\"\\n\".join(yolo_labels))\n",
    "\n",
    "# Process training and validation sets\n",
    "process_and_save(train_imgs, \"train\")\n",
    "process_and_save(val_imgs, \"val\")\n",
    "\n",
    "print(\"✅ Dataset converted to YOLO format!\")\n"
   ],
   "id": "44384d7f6be05271"
  },
  {
   "metadata": {},
   "cell_type": "code",
   "outputs": [],
   "execution_count": null,
   "source": [
    "yaml_content = f\"\"\"\n",
    "train: {os.path.abspath(os.path.join(IMG_OUT_DIR, 'train'))}\n",
    "val: {os.path.abspath(os.path.join(IMG_OUT_DIR, 'val'))}\n",
    "\n",
    "nc: 1\n",
    "names: ['number_plate']\n",
    "\"\"\"\n",
    "\n",
    "with open(\"data.yaml\", \"w\") as f:\n",
    "    f.write(yaml_content)\n",
    "\n",
    "print(\"✅ data.yaml file created!\")\n"
   ],
   "id": "aa291e3fe3efd8a2"
  },
  {
   "metadata": {},
   "cell_type": "code",
   "outputs": [],
   "execution_count": null,
   "source": [
    "from ultralytics import YOLO\n",
    "\n",
    "# Load YOLOv10n (nano model - fast & light)\n",
    "model = YOLO(\"yolov8n.pt\")  # ultralytics does not yet have yolov10 official, yolov8 works similarly\n",
    "\n",
    "# Train\n",
    "model.train(\n",
    "    data=\"data.yaml\",\n",
    "    epochs=50,\n",
    "    imgsz=640,\n",
    "    batch=16,\n",
    "    name=\"car_plate_model\"\n",
    ")\n"
   ],
   "id": "313d4036e0f238db"
  },
  {
   "metadata": {},
   "cell_type": "code",
   "outputs": [],
   "execution_count": null,
   "source": [
    "# Save final weights\n",
    "trained_model_path = \"model.pt\"\n",
    "model.save(trained_model_path)\n",
    "\n",
    "print(f\"✅ Model saved as {trained_model_path}\")"
   ],
   "id": "aa830c836406f017"
  },
  {
   "metadata": {},
   "cell_type": "code",
   "outputs": [],
   "execution_count": null,
   "source": "",
   "id": "909afe1f3e438f9e"
  }
 ],
 "metadata": {
  "kernelspec": {
   "name": "python3",
   "language": "python",
   "display_name": "Python 3 (ipykernel)"
  }
 },
 "nbformat": 5,
 "nbformat_minor": 9
}
